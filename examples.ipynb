{
 "cells": [
  {
   "cell_type": "markdown",
   "metadata": {},
   "source": [
    "# tinypy\n",
    "\n",
    "This library is strictly for educational purposes. You should be using `numpy` or other popular linear algebra libraries in production environments.\n",
    "\n",
    "tinypy has two data types - `Matrix` and `Vector`. \n",
    "\n",
    "## `Matrix`\n",
    "\n",
    "Only supports 2d arrays (unlike n-dimensional array support in NumPy) and has two possible initializations:"
   ]
  },
  {
   "cell_type": "code",
   "execution_count": 1,
   "metadata": {},
   "outputs": [
    {
     "name": "stdout",
     "output_type": "stream",
     "text": [
      "3x3 Matrix at 0x219274965d0\n",
      "-----------------------------\n",
      "0.00\t0.00\t0.00\n",
      "0.00\t0.00\t0.00\n",
      "0.00\t0.00\t0.00\n",
      "\n"
     ]
    }
   ],
   "source": [
    "from matrix import Matrix\n",
    "\n",
    "# Just provide the number of rows and columns\n",
    "m = Matrix(3, 3)\n",
    "\n",
    "print(m)"
   ]
  },
  {
   "cell_type": "code",
   "execution_count": 2,
   "metadata": {},
   "outputs": [
    {
     "name": "stdout",
     "output_type": "stream",
     "text": [
      "A\n",
      "3x3 Matrix at 0x21927496b40\n",
      "-----------------------------\n",
      "21.00\t20.00\t7.00\n",
      "3.00\t6.00\t2.00\n",
      "11.00\t15.00\t7.00\n",
      "\n"
     ]
    }
   ],
   "source": [
    "# or also provide the data in row-major order\n",
    "A = Matrix(3, 3, [21, 20, 7, 3, 6, 2, 11, 15, 7])\n",
    "\n",
    "print(\"A\")\n",
    "print(A)"
   ]
  },
  {
   "cell_type": "markdown",
   "metadata": {},
   "source": [
    "Multiply with scalar or a suitable `Matrix` with the usual `*` operator"
   ]
  },
  {
   "cell_type": "code",
   "execution_count": 3,
   "metadata": {},
   "outputs": [
    {
     "name": "stdout",
     "output_type": "stream",
     "text": [
      "B\n",
      "3x2 Matrix at 0x219269f5910\n",
      "-----------------------------\n",
      "2.00\t5.00\n",
      "0.00\t-5.00\n",
      "-7.00\t-8.00\n",
      "\n",
      "A * 2\n",
      "3x3 Matrix at 0x21927455d60\n",
      "-----------------------------\n",
      "42.00\t40.00\t14.00\n",
      "6.00\t12.00\t4.00\n",
      "22.00\t30.00\t14.00\n",
      "\n",
      "A * B\n",
      "3x2 Matrix at 0x21927455d60\n",
      "-----------------------------\n",
      "-7.00\t-51.00\n",
      "-8.00\t-31.00\n",
      "-27.00\t-76.00\n",
      "\n"
     ]
    }
   ],
   "source": [
    "import random\n",
    "\n",
    "B = Matrix(3, 2, [float(random.randint(-10, 10)) for _ in range(3 * 2)])\n",
    "print(\"B\")\n",
    "print(B)\n",
    "\n",
    "print(\"A * 2\")\n",
    "print(A * 2)\n",
    "\n",
    "print(\"A * B\")\n",
    "print(A * B)"
   ]
  },
  {
   "cell_type": "markdown",
   "metadata": {},
   "source": [
    "Similarly, `+` and `-` are also supported with scalars and suitable matrices."
   ]
  },
  {
   "cell_type": "markdown",
   "metadata": {},
   "source": [
    "You can find $\\text{det}(A)$ with the `det()` method."
   ]
  },
  {
   "cell_type": "code",
   "execution_count": 4,
   "metadata": {},
   "outputs": [
    {
     "name": "stdout",
     "output_type": "stream",
     "text": [
      "The determinant of A = 125.0\n",
      "3x3 Matrix at 0x21927496b40\n",
      "-----------------------------\n",
      "21.00\t20.00\t7.00\n",
      "3.00\t6.00\t2.00\n",
      "11.00\t15.00\t7.00\n",
      "\n"
     ]
    }
   ],
   "source": [
    "print(f\"The determinant of A = {A.det()}\")\n",
    "print(A)"
   ]
  },
  {
   "cell_type": "markdown",
   "metadata": {},
   "source": [
    "Use the `inv()` method to get $A^{-1}$."
   ]
  },
  {
   "cell_type": "code",
   "execution_count": 5,
   "metadata": {},
   "outputs": [
    {
     "name": "stdout",
     "output_type": "stream",
     "text": [
      "The inverse of A\n",
      "3x3 Matrix at 0x21927496720\n",
      "-----------------------------\n",
      "0.10\t-0.28\t-0.02\n",
      "0.01\t0.56\t-0.17\n",
      "-0.17\t-0.76\t0.53\n",
      "\n"
     ]
    }
   ],
   "source": [
    "print(\"The inverse of A\")\n",
    "print(A.inv())"
   ]
  },
  {
   "cell_type": "markdown",
   "metadata": {},
   "source": [
    "Use the `trace()` method to find $\\text{trace}(A)$"
   ]
  },
  {
   "cell_type": "code",
   "execution_count": 6,
   "metadata": {},
   "outputs": [
    {
     "name": "stdout",
     "output_type": "stream",
     "text": [
      "Trace of A = 34\n"
     ]
    }
   ],
   "source": [
    "print(f\"Trace of A = {A.trace()}\")"
   ]
  },
  {
   "cell_type": "markdown",
   "metadata": {},
   "source": [
    "The `rank()` method gives the $\\text{rank}(A)$"
   ]
  },
  {
   "cell_type": "code",
   "execution_count": 7,
   "metadata": {},
   "outputs": [
    {
     "name": "stdout",
     "output_type": "stream",
     "text": [
      "Rank of A = 3\n"
     ]
    }
   ],
   "source": [
    "print(f\"Rank of A = {A.rank()}\")"
   ]
  },
  {
   "cell_type": "markdown",
   "metadata": {},
   "source": [
    "The solution to a linear system of equations of the form $\\mathbf{A}x = b$ can be found with the `solve()` method.\n",
    "\n",
    "It takes the coefficient $b$ vector as the only argument and returns the $x$ vector.\n",
    "\n",
    "Here's an example for a 4 by 4 system."
   ]
  },
  {
   "cell_type": "code",
   "execution_count": 8,
   "metadata": {},
   "outputs": [
    {
     "name": "stdout",
     "output_type": "stream",
     "text": [
      "A\n",
      "4x4 Matrix at 0x219264bd2e0\n",
      "-----------------------------\n",
      "1.00\t0.00\t1.00\t2.00\n",
      "0.00\t1.00\t-2.00\t0.00\n",
      "1.00\t2.00\t-1.00\t0.00\n",
      "2.00\t1.00\t3.00\t-2.00\n",
      "\n",
      "b\n",
      "4-dim Vector at 0x21927455d60: < 6.00  -3.00  -2.00   0.00  >\n",
      "x\n",
      "4-dim Vector at 0x219274acce0: < 1.00  -1.00   1.00   2.00  >\n"
     ]
    }
   ],
   "source": [
    "from vector import Vector\n",
    "\n",
    "A = Matrix(4, 4, [1, 0, 1, 2, 0, 1, -2, 0, 1, 2, -1, 0, 2, 1, 3, -2])\n",
    "print(\"A\")\n",
    "print(A)\n",
    "\n",
    "b = Vector([6, -3, -2, 0])\n",
    "print(\"b\")\n",
    "print(b)\n",
    "\n",
    "print(\"x\")\n",
    "print(A.solve(b))"
   ]
  },
  {
   "cell_type": "markdown",
   "metadata": {},
   "source": [
    "You can find the eigenvalues of a matrix with the `eig()` method."
   ]
  },
  {
   "cell_type": "code",
   "execution_count": 11,
   "metadata": {},
   "outputs": [
    {
     "name": "stdout",
     "output_type": "stream",
     "text": [
      "The eigenvalues of A are = 3-dim Vector at 0x219274aec30: < 29.05   3.82   1.13  >\n"
     ]
    }
   ],
   "source": [
    "A = Matrix(3, 3, [21, 20, 7, 3, 6, 2, 11, 15, 7])\n",
    "print(f\"The eigenvalues of A are = {A.eig()}\")"
   ]
  }
 ],
 "metadata": {
  "kernelspec": {
   "display_name": ".venv",
   "language": "python",
   "name": "python3"
  },
  "language_info": {
   "codemirror_mode": {
    "name": "ipython",
    "version": 3
   },
   "file_extension": ".py",
   "mimetype": "text/x-python",
   "name": "python",
   "nbconvert_exporter": "python",
   "pygments_lexer": "ipython3",
   "version": "3.12.7"
  }
 },
 "nbformat": 4,
 "nbformat_minor": 2
}
